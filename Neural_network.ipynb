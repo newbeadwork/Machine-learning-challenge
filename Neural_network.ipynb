{
 "cells": [
  {
   "cell_type": "code",
   "execution_count": 1,
   "metadata": {},
   "outputs": [],
   "source": [
    "#Dependencies\n",
    "import pandas as pd\n",
    "from sklearn.model_selection import train_test_split\n",
    "from sklearn.preprocessing import LabelEncoder, MinMaxScaler\n",
    "from tensorflow.keras.utils import to_categorical\n",
    "from tensorflow.keras.models import Sequential\n",
    "from tensorflow.keras.layers import Dense"
   ]
  },
  {
   "cell_type": "code",
   "execution_count": 2,
   "metadata": {},
   "outputs": [
    {
     "data": {
      "text/html": [
       "<div>\n",
       "<style scoped>\n",
       "    .dataframe tbody tr th:only-of-type {\n",
       "        vertical-align: middle;\n",
       "    }\n",
       "\n",
       "    .dataframe tbody tr th {\n",
       "        vertical-align: top;\n",
       "    }\n",
       "\n",
       "    .dataframe thead th {\n",
       "        text-align: right;\n",
       "    }\n",
       "</style>\n",
       "<table border=\"1\" class=\"dataframe\">\n",
       "  <thead>\n",
       "    <tr style=\"text-align: right;\">\n",
       "      <th></th>\n",
       "      <th>Unnamed: 0</th>\n",
       "      <th>koi_pdisposition</th>\n",
       "      <th>koi_fpflag_nt</th>\n",
       "      <th>koi_fpflag_ss</th>\n",
       "      <th>koi_fpflag_co</th>\n",
       "      <th>koi_fpflag_ec</th>\n",
       "      <th>koi_period</th>\n",
       "      <th>koi_time0bk</th>\n",
       "      <th>koi_impact</th>\n",
       "      <th>koi_duration</th>\n",
       "      <th>...</th>\n",
       "      <th>koi_prad</th>\n",
       "      <th>koi_teq</th>\n",
       "      <th>koi_insol</th>\n",
       "      <th>koi_model_snr</th>\n",
       "      <th>koi_steff</th>\n",
       "      <th>koi_slogg</th>\n",
       "      <th>koi_srad</th>\n",
       "      <th>ra</th>\n",
       "      <th>dec</th>\n",
       "      <th>koi_kepmag</th>\n",
       "    </tr>\n",
       "  </thead>\n",
       "  <tbody>\n",
       "    <tr>\n",
       "      <th>0</th>\n",
       "      <td>0</td>\n",
       "      <td>CANDIDATE</td>\n",
       "      <td>0</td>\n",
       "      <td>0</td>\n",
       "      <td>0</td>\n",
       "      <td>0</td>\n",
       "      <td>9.488036</td>\n",
       "      <td>170.538750</td>\n",
       "      <td>0.146</td>\n",
       "      <td>2.95750</td>\n",
       "      <td>...</td>\n",
       "      <td>2.26</td>\n",
       "      <td>793.0</td>\n",
       "      <td>93.59</td>\n",
       "      <td>35.8</td>\n",
       "      <td>5455.0</td>\n",
       "      <td>4.467</td>\n",
       "      <td>0.927</td>\n",
       "      <td>291.93423</td>\n",
       "      <td>48.141651</td>\n",
       "      <td>15.347</td>\n",
       "    </tr>\n",
       "    <tr>\n",
       "      <th>1</th>\n",
       "      <td>1</td>\n",
       "      <td>CANDIDATE</td>\n",
       "      <td>0</td>\n",
       "      <td>0</td>\n",
       "      <td>0</td>\n",
       "      <td>0</td>\n",
       "      <td>54.418383</td>\n",
       "      <td>162.513840</td>\n",
       "      <td>0.586</td>\n",
       "      <td>4.50700</td>\n",
       "      <td>...</td>\n",
       "      <td>2.83</td>\n",
       "      <td>443.0</td>\n",
       "      <td>9.11</td>\n",
       "      <td>25.8</td>\n",
       "      <td>5455.0</td>\n",
       "      <td>4.467</td>\n",
       "      <td>0.927</td>\n",
       "      <td>291.93423</td>\n",
       "      <td>48.141651</td>\n",
       "      <td>15.347</td>\n",
       "    </tr>\n",
       "    <tr>\n",
       "      <th>2</th>\n",
       "      <td>2</td>\n",
       "      <td>FALSE POSITIVE</td>\n",
       "      <td>0</td>\n",
       "      <td>1</td>\n",
       "      <td>0</td>\n",
       "      <td>0</td>\n",
       "      <td>19.899140</td>\n",
       "      <td>175.850252</td>\n",
       "      <td>0.969</td>\n",
       "      <td>1.78220</td>\n",
       "      <td>...</td>\n",
       "      <td>14.60</td>\n",
       "      <td>638.0</td>\n",
       "      <td>39.30</td>\n",
       "      <td>76.3</td>\n",
       "      <td>5853.0</td>\n",
       "      <td>4.544</td>\n",
       "      <td>0.868</td>\n",
       "      <td>297.00482</td>\n",
       "      <td>48.134129</td>\n",
       "      <td>15.436</td>\n",
       "    </tr>\n",
       "    <tr>\n",
       "      <th>3</th>\n",
       "      <td>3</td>\n",
       "      <td>FALSE POSITIVE</td>\n",
       "      <td>0</td>\n",
       "      <td>1</td>\n",
       "      <td>0</td>\n",
       "      <td>0</td>\n",
       "      <td>1.736952</td>\n",
       "      <td>170.307565</td>\n",
       "      <td>1.276</td>\n",
       "      <td>2.40641</td>\n",
       "      <td>...</td>\n",
       "      <td>33.46</td>\n",
       "      <td>1395.0</td>\n",
       "      <td>891.96</td>\n",
       "      <td>505.6</td>\n",
       "      <td>5805.0</td>\n",
       "      <td>4.564</td>\n",
       "      <td>0.791</td>\n",
       "      <td>285.53461</td>\n",
       "      <td>48.285210</td>\n",
       "      <td>15.597</td>\n",
       "    </tr>\n",
       "    <tr>\n",
       "      <th>4</th>\n",
       "      <td>4</td>\n",
       "      <td>CANDIDATE</td>\n",
       "      <td>0</td>\n",
       "      <td>0</td>\n",
       "      <td>0</td>\n",
       "      <td>0</td>\n",
       "      <td>2.525592</td>\n",
       "      <td>171.595550</td>\n",
       "      <td>0.701</td>\n",
       "      <td>1.65450</td>\n",
       "      <td>...</td>\n",
       "      <td>2.75</td>\n",
       "      <td>1406.0</td>\n",
       "      <td>926.16</td>\n",
       "      <td>40.9</td>\n",
       "      <td>6031.0</td>\n",
       "      <td>4.438</td>\n",
       "      <td>1.046</td>\n",
       "      <td>288.75488</td>\n",
       "      <td>48.226200</td>\n",
       "      <td>15.509</td>\n",
       "    </tr>\n",
       "  </tbody>\n",
       "</table>\n",
       "<p>5 rows × 21 columns</p>\n",
       "</div>"
      ],
      "text/plain": [
       "   Unnamed: 0 koi_pdisposition  koi_fpflag_nt  koi_fpflag_ss  koi_fpflag_co  \\\n",
       "0           0        CANDIDATE              0              0              0   \n",
       "1           1        CANDIDATE              0              0              0   \n",
       "2           2   FALSE POSITIVE              0              1              0   \n",
       "3           3   FALSE POSITIVE              0              1              0   \n",
       "4           4        CANDIDATE              0              0              0   \n",
       "\n",
       "   koi_fpflag_ec  koi_period  koi_time0bk  koi_impact  koi_duration  ...  \\\n",
       "0              0    9.488036   170.538750       0.146       2.95750  ...   \n",
       "1              0   54.418383   162.513840       0.586       4.50700  ...   \n",
       "2              0   19.899140   175.850252       0.969       1.78220  ...   \n",
       "3              0    1.736952   170.307565       1.276       2.40641  ...   \n",
       "4              0    2.525592   171.595550       0.701       1.65450  ...   \n",
       "\n",
       "   koi_prad  koi_teq  koi_insol  koi_model_snr  koi_steff  koi_slogg  \\\n",
       "0      2.26    793.0      93.59           35.8     5455.0      4.467   \n",
       "1      2.83    443.0       9.11           25.8     5455.0      4.467   \n",
       "2     14.60    638.0      39.30           76.3     5853.0      4.544   \n",
       "3     33.46   1395.0     891.96          505.6     5805.0      4.564   \n",
       "4      2.75   1406.0     926.16           40.9     6031.0      4.438   \n",
       "\n",
       "   koi_srad         ra        dec  koi_kepmag  \n",
       "0     0.927  291.93423  48.141651      15.347  \n",
       "1     0.927  291.93423  48.141651      15.347  \n",
       "2     0.868  297.00482  48.134129      15.436  \n",
       "3     0.791  285.53461  48.285210      15.597  \n",
       "4     1.046  288.75488  48.226200      15.509  \n",
       "\n",
       "[5 rows x 21 columns]"
      ]
     },
     "execution_count": 2,
     "metadata": {},
     "output_type": "execute_result"
    }
   ],
   "source": [
    "#Reading the data\n",
    "data_Kepler = pd.read_csv(\"Resources/cleaned_Kepler.csv\")\n",
    "data_Kepler.head()"
   ]
  },
  {
   "cell_type": "code",
   "execution_count": 3,
   "metadata": {},
   "outputs": [
    {
     "name": "stdout",
     "output_type": "stream",
     "text": [
      "(9200, 19) (9200,)\n"
     ]
    }
   ],
   "source": [
    "#Spliting data to labels and features, dropping index column\n",
    "X = data_Kepler.drop(columns=[\"koi_pdisposition\", \"Unnamed: 0\"], axis=1)\n",
    "y = data_Kepler[\"koi_pdisposition\"]\n",
    "print(X.shape, y.shape)"
   ]
  },
  {
   "cell_type": "code",
   "execution_count": 4,
   "metadata": {},
   "outputs": [],
   "source": [
    "X_train, X_test, y_train, y_test = train_test_split(\n",
    "    X, y, random_state=1)"
   ]
  },
  {
   "cell_type": "code",
   "execution_count": 5,
   "metadata": {},
   "outputs": [],
   "source": [
    "X_scaler = MinMaxScaler().fit(X_train)\n",
    "X_train_scaled = X_scaler.transform(X_train)\n",
    "X_test_scaled = X_scaler.transform(X_test)"
   ]
  },
  {
   "cell_type": "code",
   "execution_count": 6,
   "metadata": {},
   "outputs": [
    {
     "data": {
      "text/plain": [
       "array([[0., 1.],\n",
       "       [0., 1.],\n",
       "       [1., 0.],\n",
       "       ...,\n",
       "       [1., 0.],\n",
       "       [1., 0.],\n",
       "       [1., 0.]], dtype=float32)"
      ]
     },
     "execution_count": 6,
     "metadata": {},
     "output_type": "execute_result"
    }
   ],
   "source": [
    "label_encoder = LabelEncoder()\n",
    "label_encoder.fit(y_train)\n",
    "encoded_y_train = label_encoder.transform(y_train)\n",
    "encoded_y_test = label_encoder.transform(y_test)\n",
    "y_train_categorical = to_categorical(encoded_y_train)\n",
    "y_test_categorical = to_categorical(encoded_y_test)\n",
    "y_train_categorical\n",
    "y_test_categorical"
   ]
  },
  {
   "cell_type": "code",
   "execution_count": 7,
   "metadata": {},
   "outputs": [],
   "source": [
    "deep_model = Sequential()\n",
    "deep_model.add(Dense(units=100, activation='relu', input_dim=19))\n",
    "deep_model.add(Dense(units=100, activation='relu'))\n",
    "deep_model.add(Dense(units=2, activation='softmax'))"
   ]
  },
  {
   "cell_type": "code",
   "execution_count": 8,
   "metadata": {},
   "outputs": [],
   "source": [
    "deep_model.compile(optimizer='adam',\n",
    "              loss='categorical_crossentropy',\n",
    "              metrics=['accuracy'])"
   ]
  },
  {
   "cell_type": "code",
   "execution_count": 9,
   "metadata": {},
   "outputs": [
    {
     "name": "stdout",
     "output_type": "stream",
     "text": [
      "Model: \"sequential\"\n",
      "_________________________________________________________________\n",
      "Layer (type)                 Output Shape              Param #   \n",
      "=================================================================\n",
      "dense (Dense)                (None, 100)               2000      \n",
      "_________________________________________________________________\n",
      "dense_1 (Dense)              (None, 100)               10100     \n",
      "_________________________________________________________________\n",
      "dense_2 (Dense)              (None, 2)                 202       \n",
      "=================================================================\n",
      "Total params: 12,302\n",
      "Trainable params: 12,302\n",
      "Non-trainable params: 0\n",
      "_________________________________________________________________\n"
     ]
    }
   ],
   "source": [
    "deep_model.summary()"
   ]
  },
  {
   "cell_type": "code",
   "execution_count": 10,
   "metadata": {},
   "outputs": [
    {
     "name": "stdout",
     "output_type": "stream",
     "text": [
      "Epoch 1/50\n",
      "216/216 - 0s - loss: 0.1279 - accuracy: 0.9849\n",
      "Epoch 2/50\n",
      "216/216 - 0s - loss: 0.0517 - accuracy: 0.9899\n",
      "Epoch 3/50\n",
      "216/216 - 0s - loss: 0.0488 - accuracy: 0.9899\n",
      "Epoch 4/50\n",
      "216/216 - 0s - loss: 0.0489 - accuracy: 0.9897\n",
      "Epoch 5/50\n",
      "216/216 - 0s - loss: 0.0481 - accuracy: 0.9900\n",
      "Epoch 6/50\n",
      "216/216 - 0s - loss: 0.0472 - accuracy: 0.9900\n",
      "Epoch 7/50\n",
      "216/216 - 0s - loss: 0.0475 - accuracy: 0.9899\n",
      "Epoch 8/50\n",
      "216/216 - 0s - loss: 0.0470 - accuracy: 0.9901\n",
      "Epoch 9/50\n",
      "216/216 - 0s - loss: 0.0463 - accuracy: 0.9899\n",
      "Epoch 10/50\n",
      "216/216 - 0s - loss: 0.0466 - accuracy: 0.9899\n",
      "Epoch 11/50\n",
      "216/216 - 0s - loss: 0.0481 - accuracy: 0.9900\n",
      "Epoch 12/50\n",
      "216/216 - 0s - loss: 0.0458 - accuracy: 0.9901\n",
      "Epoch 13/50\n",
      "216/216 - 0s - loss: 0.0465 - accuracy: 0.9901\n",
      "Epoch 14/50\n",
      "216/216 - 0s - loss: 0.0454 - accuracy: 0.9900\n",
      "Epoch 15/50\n",
      "216/216 - 0s - loss: 0.0458 - accuracy: 0.9899\n",
      "Epoch 16/50\n",
      "216/216 - 0s - loss: 0.0448 - accuracy: 0.9901\n",
      "Epoch 17/50\n",
      "216/216 - 0s - loss: 0.0455 - accuracy: 0.9900\n",
      "Epoch 18/50\n",
      "216/216 - 0s - loss: 0.0449 - accuracy: 0.9903\n",
      "Epoch 19/50\n",
      "216/216 - 0s - loss: 0.0442 - accuracy: 0.9900\n",
      "Epoch 20/50\n",
      "216/216 - 0s - loss: 0.0443 - accuracy: 0.9901\n",
      "Epoch 21/50\n",
      "216/216 - 0s - loss: 0.0441 - accuracy: 0.9904\n",
      "Epoch 22/50\n",
      "216/216 - 0s - loss: 0.0433 - accuracy: 0.9900\n",
      "Epoch 23/50\n",
      "216/216 - 0s - loss: 0.0431 - accuracy: 0.9904\n",
      "Epoch 24/50\n",
      "216/216 - 0s - loss: 0.0435 - accuracy: 0.9901\n",
      "Epoch 25/50\n",
      "216/216 - 0s - loss: 0.0426 - accuracy: 0.9903\n",
      "Epoch 26/50\n",
      "216/216 - 0s - loss: 0.0435 - accuracy: 0.9900\n",
      "Epoch 27/50\n",
      "216/216 - 0s - loss: 0.0437 - accuracy: 0.9904\n",
      "Epoch 28/50\n",
      "216/216 - 0s - loss: 0.0430 - accuracy: 0.9904\n",
      "Epoch 29/50\n",
      "216/216 - 0s - loss: 0.0437 - accuracy: 0.9903\n",
      "Epoch 30/50\n",
      "216/216 - 0s - loss: 0.0431 - accuracy: 0.9904\n",
      "Epoch 31/50\n",
      "216/216 - 0s - loss: 0.0422 - accuracy: 0.9900\n",
      "Epoch 32/50\n",
      "216/216 - 0s - loss: 0.0410 - accuracy: 0.9901\n",
      "Epoch 33/50\n",
      "216/216 - 0s - loss: 0.0426 - accuracy: 0.9901\n",
      "Epoch 34/50\n",
      "216/216 - 0s - loss: 0.0415 - accuracy: 0.9904\n",
      "Epoch 35/50\n",
      "216/216 - 0s - loss: 0.0416 - accuracy: 0.9904\n",
      "Epoch 36/50\n",
      "216/216 - 0s - loss: 0.0412 - accuracy: 0.9899\n",
      "Epoch 37/50\n",
      "216/216 - 0s - loss: 0.0401 - accuracy: 0.9903\n",
      "Epoch 38/50\n",
      "216/216 - 0s - loss: 0.0402 - accuracy: 0.9903\n",
      "Epoch 39/50\n",
      "216/216 - 0s - loss: 0.0404 - accuracy: 0.9904\n",
      "Epoch 40/50\n",
      "216/216 - 0s - loss: 0.0404 - accuracy: 0.9901\n",
      "Epoch 41/50\n",
      "216/216 - 0s - loss: 0.0401 - accuracy: 0.9903\n",
      "Epoch 42/50\n",
      "216/216 - 0s - loss: 0.0404 - accuracy: 0.9903\n",
      "Epoch 43/50\n",
      "216/216 - 0s - loss: 0.0391 - accuracy: 0.9906\n",
      "Epoch 44/50\n",
      "216/216 - 0s - loss: 0.0387 - accuracy: 0.9906\n",
      "Epoch 45/50\n",
      "216/216 - 0s - loss: 0.0392 - accuracy: 0.9903\n",
      "Epoch 46/50\n",
      "216/216 - 0s - loss: 0.0392 - accuracy: 0.9904\n",
      "Epoch 47/50\n",
      "216/216 - 0s - loss: 0.0398 - accuracy: 0.9901\n",
      "Epoch 48/50\n",
      "216/216 - 0s - loss: 0.0384 - accuracy: 0.9903\n",
      "Epoch 49/50\n",
      "216/216 - 0s - loss: 0.0382 - accuracy: 0.9904\n",
      "Epoch 50/50\n",
      "216/216 - 0s - loss: 0.0380 - accuracy: 0.9906\n"
     ]
    },
    {
     "data": {
      "text/plain": [
       "<tensorflow.python.keras.callbacks.History at 0x234ee4d2780>"
      ]
     },
     "execution_count": 10,
     "metadata": {},
     "output_type": "execute_result"
    }
   ],
   "source": [
    "deep_model.fit(\n",
    "    X_train_scaled,\n",
    "    y_train_categorical,\n",
    "    epochs=50,\n",
    "    shuffle=True,\n",
    "    verbose=2\n",
    ")"
   ]
  },
  {
   "cell_type": "code",
   "execution_count": 11,
   "metadata": {},
   "outputs": [
    {
     "name": "stderr",
     "output_type": "stream",
     "text": [
      "D:\\anaconda3\\envs\\PythonData\\lib\\site-packages\\tensorflow\\python\\keras\\engine\\sequential.py:450: UserWarning: `model.predict_classes()` is deprecated and will be removed after 2021-01-01. Please use instead:* `np.argmax(model.predict(x), axis=-1)`,   if your model does multi-class classification   (e.g. if it uses a `softmax` last-layer activation).* `(model.predict(x) > 0.5).astype(\"int32\")`,   if your model does binary classification   (e.g. if it uses a `sigmoid` last-layer activation).\n",
      "  warnings.warn('`model.predict_classes()` is deprecated and '\n"
     ]
    }
   ],
   "source": [
    "encoded_predictions = deep_model.predict_classes(X_test_scaled[:10])\n",
    "prediction_labels = label_encoder.inverse_transform(encoded_predictions)"
   ]
  },
  {
   "cell_type": "code",
   "execution_count": 12,
   "metadata": {},
   "outputs": [
    {
     "name": "stdout",
     "output_type": "stream",
     "text": [
      "Predicted classes: ['FALSE POSITIVE' 'FALSE POSITIVE' 'CANDIDATE' 'FALSE POSITIVE'\n",
      " 'FALSE POSITIVE' 'FALSE POSITIVE' 'FALSE POSITIVE' 'FALSE POSITIVE'\n",
      " 'FALSE POSITIVE' 'FALSE POSITIVE']\n",
      "Actual Labels: ['FALSE POSITIVE', 'FALSE POSITIVE', 'CANDIDATE', 'FALSE POSITIVE', 'FALSE POSITIVE', 'FALSE POSITIVE', 'FALSE POSITIVE', 'FALSE POSITIVE', 'FALSE POSITIVE', 'FALSE POSITIVE']\n"
     ]
    }
   ],
   "source": [
    "print(f\"Predicted classes: {prediction_labels}\")\n",
    "print(f\"Actual Labels: {list(y_test[:10])}\")"
   ]
  },
  {
   "cell_type": "code",
   "execution_count": 13,
   "metadata": {},
   "outputs": [
    {
     "name": "stdout",
     "output_type": "stream",
     "text": [
      "72/72 - 0s - loss: 0.0541 - accuracy: 0.9891\n",
      "Loss: 0.0541018471121788, Accuracy: 0.989130437374115\n"
     ]
    }
   ],
   "source": [
    "deep_model_loss, deep_model_accuracy = deep_model.evaluate(\n",
    "    X_test_scaled, y_test_categorical, verbose=2)\n",
    "print(f\"Loss: {deep_model_loss}, Accuracy: {deep_model_accuracy}\")"
   ]
  },
  {
   "cell_type": "code",
   "execution_count": null,
   "metadata": {},
   "outputs": [],
   "source": []
  }
 ],
 "metadata": {
  "kernelspec": {
   "display_name": "Python 3",
   "language": "python",
   "name": "python3"
  },
  "language_info": {
   "codemirror_mode": {
    "name": "ipython",
    "version": 3
   },
   "file_extension": ".py",
   "mimetype": "text/x-python",
   "name": "python",
   "nbconvert_exporter": "python",
   "pygments_lexer": "ipython3",
   "version": "3.6.10"
  }
 },
 "nbformat": 4,
 "nbformat_minor": 4
}
